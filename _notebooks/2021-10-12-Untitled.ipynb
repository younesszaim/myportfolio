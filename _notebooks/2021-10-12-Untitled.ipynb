{
 "cells": [
  {
   "cell_type": "code",
   "execution_count": 113,
   "id": "a7129bb5",
   "metadata": {},
   "outputs": [],
   "source": [
    "%matplotlib inline\n",
    "\n",
    "from pathlib import Path\n",
    "\n",
    "import pandas as pd\n",
    "import numpy as np\n",
    "from scipy.stats import trim_mean\n",
    "from statsmodels import robust\n",
    "import wquantiles\n",
    "\n",
    "import seaborn as sns\n",
    "import matplotlib.pylab as plt"
   ]
  },
  {
   "cell_type": "code",
   "execution_count": 114,
   "id": "c5793454",
   "metadata": {},
   "outputs": [
    {
     "name": "stdout",
     "output_type": "stream",
     "text": [
      "Requirement already satisfied: wquantiles in /Users/rmbp/opt/anaconda3/lib/python3.7/site-packages (0.6)\n",
      "Requirement already satisfied: numpy>=1.18 in /Users/rmbp/opt/anaconda3/lib/python3.7/site-packages (from wquantiles) (1.21.2)\n",
      "Note: you may need to restart the kernel to use updated packages.\n"
     ]
    }
   ],
   "source": [
    "pip install wquantiles"
   ]
  },
  {
   "cell_type": "code",
   "execution_count": 115,
   "id": "fe272b89",
   "metadata": {},
   "outputs": [],
   "source": [
    "try:\n",
    "    import common\n",
    "    DATA = common.dataDirectory()\n",
    "except ImportError:\n",
    "    DATA = Path().resolve() / 'data'"
   ]
  },
  {
   "cell_type": "code",
   "execution_count": 116,
   "id": "745ad08f",
   "metadata": {},
   "outputs": [],
   "source": [
    "PATH = '/Users/rmbp/desktop/practical-statistics-for-data-scientists/data/'"
   ]
  },
  {
   "cell_type": "code",
   "execution_count": 117,
   "id": "a614a959",
   "metadata": {},
   "outputs": [],
   "source": [
    "\n",
    "AIRLINE_STATS_CSV = f'{PATH}airline_stats.csv'\n",
    "KC_TAX_CSV = f'{PATH}kc_tax.csv.gz'\n",
    "LC_LOANS_CSV = f'{PATH}lc_loans.csv'\n",
    "AIRPORT_DELAYS_CSV = f'{PATH}dfw_airline.csv'\n",
    "SP500_DATA_CSV = f'{PATH}sp500_data.csv.gz'\n",
    "SP500_SECTORS_CSV = f'{PATH}sp500_sectors.csv'\n",
    "STATE_CSV = f'{PATH}state.csv'"
   ]
  },
  {
   "cell_type": "code",
   "execution_count": 118,
   "id": "7132ec6f",
   "metadata": {},
   "outputs": [
    {
     "name": "stdout",
     "output_type": "stream",
     "text": [
      "         State  Population  Murder.Rate Abbreviation\n",
      "0      Alabama     4779736          5.7           AL\n",
      "1       Alaska      710231          5.6           AK\n",
      "2      Arizona     6392017          4.7           AZ\n",
      "3     Arkansas     2915918          5.6           AR\n",
      "4   California    37253956          4.4           CA\n",
      "5     Colorado     5029196          2.8           CO\n",
      "6  Connecticut     3574097          2.4           CT\n",
      "7     Delaware      897934          5.8           DE\n"
     ]
    }
   ],
   "source": [
    "# Table 1-2\n",
    "state = pd.read_csv(STATE_CSV)\n",
    "print(state.head(8))"
   ]
  },
  {
   "cell_type": "code",
   "execution_count": 174,
   "id": "173d57bb",
   "metadata": {},
   "outputs": [],
   "source": [
    "??pd.value_counts"
   ]
  },
  {
   "cell_type": "code",
   "execution_count": 122,
   "id": "59cbc5e7",
   "metadata": {},
   "outputs": [
    {
     "data": {
      "text/plain": [
       "4.445833981123393"
      ]
     },
     "execution_count": 122,
     "metadata": {},
     "output_type": "execute_result"
    }
   ],
   "source": [
    "np.average(state['Murder.Rate'], weights=state.Population)"
   ]
  },
  {
   "cell_type": "code",
   "execution_count": 191,
   "id": "4c7ffa3f",
   "metadata": {},
   "outputs": [],
   "source": [
    "from scipy.stats import trim_mean"
   ]
  },
  {
   "cell_type": "code",
   "execution_count": 193,
   "id": "63d7bc92",
   "metadata": {},
   "outputs": [
    {
     "data": {
      "text/plain": [
       "4783697.125"
      ]
     },
     "execution_count": 193,
     "metadata": {},
     "output_type": "execute_result"
    }
   ],
   "source": [
    "trim_mean(state.Population, 0.10)"
   ]
  },
  {
   "cell_type": "code",
   "execution_count": 202,
   "id": "b99a9a73",
   "metadata": {},
   "outputs": [
    {
     "data": {
      "text/plain": [
       "4847308.0"
      ]
     },
     "execution_count": 202,
     "metadata": {},
     "output_type": "execute_result"
    }
   ],
   "source": [
    "iqr = state.Population.quantile(0.75)-state.Population.quantile(0.25)\n",
    "iqr"
   ]
  },
  {
   "cell_type": "code",
   "execution_count": 204,
   "id": "854c74d5",
   "metadata": {},
   "outputs": [],
   "source": [
    "from statsmodels import robust"
   ]
  },
  {
   "cell_type": "code",
   "execution_count": 213,
   "id": "a0ad4617",
   "metadata": {},
   "outputs": [],
   "source": [
    "?robust.scale.mad"
   ]
  },
  {
   "cell_type": "code",
   "execution_count": 212,
   "id": "db9bb710",
   "metadata": {},
   "outputs": [
    {
     "data": {
      "text/plain": [
       "3849876.1459979336"
      ]
     },
     "execution_count": 212,
     "metadata": {},
     "output_type": "execute_result"
    }
   ],
   "source": [
    "abs(state.Population - state.Population.median()).median()/ 0.6744897501960817"
   ]
  },
  {
   "cell_type": "code",
   "execution_count": 223,
   "id": "3139149a",
   "metadata": {},
   "outputs": [
    {
     "data": {
      "text/plain": [
       "0.05    1.600\n",
       "0.25    2.425\n",
       "0.50    4.000\n",
       "0.75    5.550\n",
       "0.95    6.510\n",
       "Name: Murder.Rate, dtype: float64"
      ]
     },
     "execution_count": 223,
     "metadata": {},
     "output_type": "execute_result"
    }
   ],
   "source": [
    "state['Murder.Rate'].quantile([0.05,0.25,0.5,0.75,0.95])"
   ]
  },
  {
   "cell_type": "code",
   "execution_count": 242,
   "id": "eaa66e90",
   "metadata": {},
   "outputs": [
    {
     "data": {
      "text/plain": [
       "0.05    1.600\n",
       "0.25    2.425\n",
       "0.50    4.000\n",
       "0.75    5.550\n",
       "0.95    6.510\n",
       "Name: Murder.Rate, dtype: float64"
      ]
     },
     "execution_count": 242,
     "metadata": {},
     "output_type": "execute_result"
    }
   ],
   "source": [
    "state['Murder.Rate'].quantile([0.05,0.25,0.5,0.75,0.95])"
   ]
  },
  {
   "cell_type": "code",
   "execution_count": 246,
   "id": "9d4fa6f7",
   "metadata": {},
   "outputs": [
    {
     "data": {
      "text/html": [
       "<div>\n",
       "<style scoped>\n",
       "    .dataframe tbody tr th:only-of-type {\n",
       "        vertical-align: middle;\n",
       "    }\n",
       "\n",
       "    .dataframe tbody tr th {\n",
       "        vertical-align: top;\n",
       "    }\n",
       "\n",
       "    .dataframe thead th {\n",
       "        text-align: right;\n",
       "    }\n",
       "</style>\n",
       "<table border=\"1\" class=\"dataframe\">\n",
       "  <thead>\n",
       "    <tr style=\"text-align: right;\">\n",
       "      <th></th>\n",
       "      <th>5.0%</th>\n",
       "      <th>25.0%</th>\n",
       "      <th>50.0%</th>\n",
       "      <th>75.0%</th>\n",
       "      <th>95.0%</th>\n",
       "    </tr>\n",
       "  </thead>\n",
       "  <tbody>\n",
       "    <tr>\n",
       "      <th>Murder.Rate</th>\n",
       "      <td>1.6</td>\n",
       "      <td>2.425</td>\n",
       "      <td>4.0</td>\n",
       "      <td>5.55</td>\n",
       "      <td>6.51</td>\n",
       "    </tr>\n",
       "  </tbody>\n",
       "</table>\n",
       "</div>"
      ],
      "text/plain": [
       "             5.0%  25.0%  50.0%  75.0%  95.0%\n",
       "Murder.Rate   1.6  2.425    4.0   5.55   6.51"
      ]
     },
     "execution_count": 246,
     "metadata": {},
     "output_type": "execute_result"
    }
   ],
   "source": [
    "percentile = [0.05,0.25,0.5,0.75,0.95]\n",
    "df = pd.DataFrame(state['Murder.Rate'].quantile(percentile))\n",
    "df.index = [f'{p * 100}%' for p in percentile]\n",
    "df.T"
   ]
  },
  {
   "cell_type": "code",
   "execution_count": 277,
   "id": "39f6c92a",
   "metadata": {},
   "outputs": [
    {
     "data": {
      "image/png": "[encoded data removed]",
      "text/plain": [
       "<Figure size 360x216 with 1 Axes>"
      ]
     },
     "metadata": {
      "needs_background": "light"
     },
     "output_type": "display_data"
    }
   ],
   "source": [
    "import matplotlib.pylab as plt\n",
    "ax = (state['Population']/1_000_000).plot.box(figsize=(5,3))\n",
    "ax.set_ylabel('Population(millions)')\n",
    "plt.tight_layout()\n",
    "plt.show()"
   ]
  },
  {
   "cell_type": "code",
   "execution_count": 284,
   "id": "48565bb6",
   "metadata": {},
   "outputs": [
    {
     "data": {
      "image/png": "[encoded data removed]",
      "text/plain": [
       "<Figure size 432x288 with 1 Axes>"
      ]
     },
     "metadata": {
      "needs_background": "light"
     },
     "output_type": "display_data"
    }
   ],
   "source": [
    "import matplotlib.pylab as plt\n",
    "ax = (state['Population']/1_000_000).plot.box()\n",
    "ax.set_ylabel('Population(millions)')\n",
    "plt.tight_layout()\n",
    "plt.show()"
   ]
  },
  {
   "cell_type": "code",
   "execution_count": 296,
   "id": "0643de12",
   "metadata": {},
   "outputs": [
    {
     "data": {
      "image/png": "[encoded data removed]",
      "text/plain": [
       "<Figure size 432x288 with 1 Axes>"
      ]
     },
     "metadata": {
      "needs_background": "light"
     },
     "output_type": "display_data"
    }
   ],
   "source": [
    "from matplotlib.pylab import plt\n",
    "ax = (state['Population']/1_000_000).plot.box()\n",
    "ax.set_ylabel('Population (millions)')\n",
    "plt.tight_layout()\n",
    "plt.show()"
   ]
  },
  {
   "cell_type": "code",
   "execution_count": 375,
   "id": "70423da1",
   "metadata": {},
   "outputs": [
    {
     "name": "stdout",
     "output_type": "stream",
     "text": [
      "                   BinRange  Count  \\\n",
      "0    (526935.67, 4232659.0]     24   \n",
      "1    (4232659.0, 7901692.0]     14   \n",
      "2   (7901692.0, 11570725.0]      6   \n",
      "3  (11570725.0, 15239758.0]      2   \n",
      "4  (15239758.0, 18908791.0]      1   \n",
      "5  (18908791.0, 22577824.0]      1   \n",
      "6  (22577824.0, 26246857.0]      1   \n",
      "7  (26246857.0, 29915890.0]      0   \n",
      "8  (29915890.0, 33584923.0]      0   \n",
      "9  (33584923.0, 37253956.0]      1   \n",
      "\n",
      "                                                                    States  \n",
      "0  WY,VT,ND,AK,SD,DE,MT,RI,NH,ME,HI,ID,NE,WV,NM,NV,UT,KS,AR,MS,IA,CT,OK,OR  \n",
      "1                                KY,LA,SC,AL,CO,MN,WI,MD,MO,TN,AZ,IN,MA,WA  \n",
      "2                                                        VA,NJ,NC,GA,MI,OH  \n",
      "3                                                                    PA,IL  \n",
      "4                                                                       FL  \n",
      "5                                                                       NY  \n",
      "6                                                                       TX  \n",
      "7                                                                           \n",
      "8                                                                           \n",
      "9                                                                       CA  \n"
     ]
    }
   ],
   "source": [
    "populationbinned = pd.cut(state['Population'],10)\n",
    "populationbinned.name = 'binnedpopulation'\n",
    "df = pd.concat([state, populationbinned],axis = 1).sort_values('Population')\n",
    "groups = []\n",
    "for group, state in df.groupby('binnedpopulation'):\n",
    "    groups.append({\n",
    "        'BinRange' : group ,\n",
    "        'Count' : len(state) ,\n",
    "        'States' : ','.join(state.Abbreviation)\n",
    "    })\n",
    "print(pd.DataFrame(groups))    \n",
    "    "
   ]
  },
  {
   "cell_type": "code",
   "execution_count": 386,
   "id": "93ae7359",
   "metadata": {},
   "outputs": [
    {
     "name": "stdout",
     "output_type": "stream",
     "text": [
      "{1: 49     563626\n",
      "44     625741\n",
      "33     672591\n",
      "1      710231\n",
      "40     814180\n",
      "7      897934\n",
      "25     989415\n",
      "38    1052567\n",
      "28    1316470\n",
      "18    1328361\n",
      "10    1360301\n",
      "11    1567582\n",
      "26    1826341\n",
      "47    1852994\n",
      "30    2059179\n",
      "27    2700551\n",
      "43    2763885\n",
      "15    2853118\n",
      "3     2915918\n",
      "23    2967297\n",
      "14    3046355\n",
      "6     3574097\n",
      "35    3751351\n",
      "36    3831074\n",
      "Name: Population, dtype: int64, 2: 'Wyoming,Vermont,North Dakota,Alaska,South Dakota,Delaware,Montana,Rhode Island,New Hampshire,Maine,Hawaii,Idaho,Nebraska,West Virginia,New Mexico,Nevada,Utah,Kansas,Arkansas,Mississippi,Iowa,Connecticut,Oklahoma,Oregon'}\n",
      "{1: 16    4339367\n",
      "17    4533372\n",
      "39    4625364\n",
      "0     4779736\n",
      "5     5029196\n",
      "22    5303925\n",
      "48    5686986\n",
      "19    5773552\n",
      "24    5988927\n",
      "41    6346105\n",
      "2     6392017\n",
      "13    6483802\n",
      "20    6547629\n",
      "46    6724540\n",
      "Name: Population, dtype: int64, 2: 'Kentucky,Louisiana,South Carolina,Alabama,Colorado,Minnesota,Wisconsin,Maryland,Missouri,Tennessee,Arizona,Indiana,Massachusetts,Washington'}\n",
      "{1: 45     8001024\n",
      "29     8791894\n",
      "32     9535483\n",
      "9      9687653\n",
      "21     9883640\n",
      "34    11536504\n",
      "Name: Population, dtype: int64, 2: 'Virginia,New Jersey,North Carolina,Georgia,Michigan,Ohio'}\n",
      "{1: 37    12702379\n",
      "12    12830632\n",
      "Name: Population, dtype: int64, 2: 'Pennsylvania,Illinois'}\n",
      "{1: 8    18801310\n",
      "Name: Population, dtype: int64, 2: 'Florida'}\n",
      "{1: 31    19378102\n",
      "Name: Population, dtype: int64, 2: 'New York'}\n",
      "{1: 42    25145561\n",
      "Name: Population, dtype: int64, 2: 'Texas'}\n",
      "{1: Series([], Name: Population, dtype: int64), 2: ''}\n",
      "{1: Series([], Name: Population, dtype: int64), 2: ''}\n",
      "{1: 4    37253956\n",
      "Name: Population, dtype: int64, 2: 'California'}\n"
     ]
    }
   ],
   "source": [
    "for group, state in df.groupby('binnedpopulation'):\n",
    "    print({1 : state.Population , 2: ','.join(state.State)})"
   ]
  },
  {
   "cell_type": "code",
   "execution_count": null,
   "id": "cae829b0",
   "metadata": {},
   "outputs": [],
   "source": []
  },
  {
   "cell_type": "code",
   "execution_count": null,
   "id": "3919baf5",
   "metadata": {},
   "outputs": [],
   "source": []
  },
  {
   "cell_type": "code",
   "execution_count": null,
   "id": "2b224354",
   "metadata": {},
   "outputs": [],
   "source": []
  },
  {
   "cell_type": "code",
   "execution_count": null,
   "id": "32b74fde",
   "metadata": {},
   "outputs": [],
   "source": []
  }
 ],
 "metadata": {
  "kernelspec": {
   "display_name": "Python 3",
   "language": "python",
   "name": "python3"
  },
  "language_info": {
   "codemirror_mode": {
    "name": "ipython",
    "version": 3
   },
   "file_extension": ".py",
   "mimetype": "text/x-python",
   "name": "python",
   "nbconvert_exporter": "python",
   "pygments_lexer": "ipython3",
   "version": "3.7.11"
  }
 },
 "nbformat": 4,
 "nbformat_minor": 5
}
